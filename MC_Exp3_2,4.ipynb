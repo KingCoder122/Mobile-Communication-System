{
  "nbformat": 4,
  "nbformat_minor": 0,
  "metadata": {
    "colab": {
      "provenance": [],
      "include_colab_link": true
    },
    "kernelspec": {
      "name": "python3",
      "display_name": "Python 3"
    },
    "language_info": {
      "name": "python"
    }
  },
  "cells": [
    {
      "cell_type": "markdown",
      "metadata": {
        "id": "view-in-github",
        "colab_type": "text"
      },
      "source": [
        "<a href=\"https://colab.research.google.com/github/KingCoder122/Mobile-Communication-System/blob/main/MC_Exp3_2%2C4.ipynb\" target=\"_parent\"><img src=\"https://colab.research.google.com/assets/colab-badge.svg\" alt=\"Open In Colab\"/></a>"
      ]
    },
    {
      "cell_type": "code",
      "execution_count": null,
      "metadata": {
        "id": "W4n6GxbtpA7H"
      },
      "outputs": [],
      "source": [
        "import numpy as np\n",
        "import matplotlib.pyplot as plt"
      ]
    },
    {
      "cell_type": "code",
      "source": [
        "TotalArea=1300\n",
        "N=7\n",
        "Radius_of_each_cell=4\n",
        "Total_BW_alloted_to_city=40*10**6\n",
        "Each_channel_BW=60*10**3\n",
        "GOS=0.02\n",
        "Au=0.03"
      ],
      "metadata": {
        "id": "8OxkwwOVpLpy"
      },
      "execution_count": null,
      "outputs": []
    },
    {
      "cell_type": "code",
      "source": [
        "#Part A\n",
        "Area_Hexagonal_cell=((3*np.sqrt(3))/2)*4**2\n",
        "#Compute number of cells\n",
        "No_of_cells=np.round(TotalArea/Area_Hexagonal_cell)\n",
        "print(No_of_cells)"
      ],
      "metadata": {
        "colab": {
          "base_uri": "https://localhost:8080/"
        },
        "id": "yfKplhXzw-Jz",
        "outputId": "822efa8d-db8c-492f-9795-9da8c154fb22"
      },
      "execution_count": null,
      "outputs": [
        {
          "output_type": "stream",
          "name": "stdout",
          "text": [
            "31.0\n"
          ]
        }
      ]
    },
    {
      "cell_type": "code",
      "source": [
        "#Part B\n",
        "#B1\n",
        "X=Total_BW_alloted_to_city/Each_channel_BW\n",
        "print(X) #X=No_of_channels/cells"
      ],
      "metadata": {
        "colab": {
          "base_uri": "https://localhost:8080/"
        },
        "id": "xHnhFLTzx29W",
        "outputId": "19957238-cb06-4762-eee1-2e355235f4a0"
      },
      "execution_count": null,
      "outputs": [
        {
          "output_type": "stream",
          "name": "stdout",
          "text": [
            "666.6666666666666\n"
          ]
        }
      ]
    },
    {
      "cell_type": "code",
      "source": [
        "#B2\n",
        "C = X/N\n",
        "print(C) #C=TotalChannels/cells"
      ],
      "metadata": {
        "colab": {
          "base_uri": "https://localhost:8080/"
        },
        "id": "N4oXOR3qzGqa",
        "outputId": "1f6f486a-b2fc-48bb-ec62-2d5574b1df52"
      },
      "execution_count": null,
      "outputs": [
        {
          "output_type": "stream",
          "name": "stdout",
          "text": [
            "95.23809523809523\n"
          ]
        }
      ]
    },
    {
      "cell_type": "code",
      "source": [
        "#Part C\n",
        "D=No_of_cells*84\n",
        "print(D)  #Max_Carried_Traffic"
      ],
      "metadata": {
        "colab": {
          "base_uri": "https://localhost:8080/"
        },
        "id": "oqM5ogF9zGpJ",
        "outputId": "c7565783-bf6d-413b-ac49-f5b1c0e4a20e"
      },
      "execution_count": null,
      "outputs": [
        {
          "output_type": "stream",
          "name": "stdout",
          "text": [
            "2604.0\n"
          ]
        }
      ]
    },
    {
      "cell_type": "code",
      "source": [
        "#Part D\n",
        "U=D/Au\n",
        "print(U) #U=Max_Carried_Traffic/Au #Total Users"
      ],
      "metadata": {
        "colab": {
          "base_uri": "https://localhost:8080/"
        },
        "id": "_STMclXN0_KJ",
        "outputId": "e0e75311-3f74-4077-b959-0d07590996ac"
      },
      "execution_count": null,
      "outputs": [
        {
          "output_type": "stream",
          "name": "stdout",
          "text": [
            "86800.0\n"
          ]
        }
      ]
    },
    {
      "cell_type": "code",
      "source": [
        "#Part E\n",
        "E=U/X\n",
        "print(E) #E=Total Channels/Total Users #Mobiles/Unit Cell"
      ],
      "metadata": {
        "colab": {
          "base_uri": "https://localhost:8080/"
        },
        "id": "Ihg8SnsT1whZ",
        "outputId": "9fb23b05-e474-441f-beb2-9ed3e3cd703a"
      },
      "execution_count": null,
      "outputs": [
        {
          "output_type": "stream",
          "name": "stdout",
          "text": [
            "130.20000000000002\n"
          ]
        }
      ]
    },
    {
      "cell_type": "code",
      "source": [
        "#Part F\n",
        "F=No_of_cells*C\n",
        "print(F)  #No_of_cells*Total Channels #F=Maxium users that can be served"
      ],
      "metadata": {
        "colab": {
          "base_uri": "https://localhost:8080/"
        },
        "id": "0StbloEQ2oEI",
        "outputId": "cecbad62-52e7-4f77-b9a7-ab3b7241b76e"
      },
      "execution_count": null,
      "outputs": [
        {
          "output_type": "stream",
          "name": "stdout",
          "text": [
            "2952.380952380952\n"
          ]
        }
      ]
    }
  ]
}